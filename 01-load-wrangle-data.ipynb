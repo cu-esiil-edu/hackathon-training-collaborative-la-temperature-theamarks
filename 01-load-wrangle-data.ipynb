{
 "cells": [
  {
   "cell_type": "markdown",
   "metadata": {
    "nbgrader": {
     "grade": false,
     "grade_id": "instr-overview",
     "locked": true,
     "schema_version": 3,
     "solution": false,
     "task": false
    }
   },
   "source": [
    "# Climate change is affecting temperatures in locations around the country\n",
    "\n",
    "In many locations around the U.S. (and the world!), climate change is causing **increased temperatures**. You will be able to see these trends in data from Los Angeles data.\n",
    "\n",
    "This workflow has been split into 2 parts:\n",
    "  1. Wrangling the data (This Python Jupyter Notebook!)\n",
    "  2. Computing a linear trend line and present the results with a plot (A Quarto R notebook)\n",
    "  \n",
    "You should be in a group of 4-6 other hackathon participants, and a subgroup of 2-3. If you're reading this notebook in your group, you're working on part 1. With your subgroup, you will complete the following **five steps**:\n",
    "  1. **Plan** your analysis a full group of 4-6.\n",
    "  2. **Set up** your analysis by importing any necessary libraries\n",
    "  3. **Import data** from the National Centers for Environmental Information (NCEI) about annual maximum daily average temperatures in Los Angeles, CA.\n",
    "  4. **Clean up** the dates of the downloaded data\n",
    "  5. **Resample** the daily from monthly to annual\n",
    "\n",
    "*First...you have to discuss the format of your intermediate data products with your group!*\n",
    "\n",
    "***"
   ]
  },
  {
   "cell_type": "markdown",
   "metadata": {},
   "source": [
    "## STEP 1: TALK TO THE SUBGROUP THAT WILL USE YOUR DATA!\n",
    "\n",
    "Your task as the wrangling subgroup is to produce annual mean temperature data for the City of Los Angeles from the supplied raw data file. You will need to work with the subgroup computing a linear trend line. What file format do they want the data in? If they want a CSV file, as we suggest, what columns do they need? What will the column names be? What will the data in each column look like?\n",
    "\n",
    "You can always re-negotiate, but it's important to stay in communication with other subgroups. In the cell below, write a description of the intermediate data product you will produce."
   ]
  },
  {
   "cell_type": "markdown",
   "metadata": {},
   "source": [
    "WRITE YOUR INTERMEDIATE DATA FILE DESCRIPTION HERE"
   ]
  },
  {
   "cell_type": "markdown",
   "metadata": {
    "nbgrader": {
     "grade": false,
     "grade_id": "step-1",
     "locked": true,
     "schema_version": 3,
     "solution": false,
     "task": false
    }
   },
   "source": [
    "## STEP 2: SET UP"
   ]
  },
  {
   "cell_type": "markdown",
   "metadata": {
    "nbgrader": {
     "grade": false,
     "grade_id": "instr-import",
     "locked": true,
     "schema_version": 3,
     "solution": false,
     "task": false
    }
   },
   "source": [
    "### Python is more powerful with **libraries**\n",
    "\n",
    "Because Python is **open source**, lots of different people and organizations can contribute (including you!). Many contributions are in the form of external &#128214; [**libraries**, also known as packages](https://www.earthdatascience.org/courses/intro-to-earth-data-science/python-code-fundamentals/use-python-packages/). Since they do not come with a standard Python download, &#128214; [external libraries need to be installed and **imported**](https://www.earthdatascience.org/courses/intro-to-earth-data-science/python-code-fundamentals/use-python-packages/). If you are using the `earth-analytics-python` environment on your computer or GitHub Codespaces, you should have everything you need installed.\n",
    "\n",
    "### There are excellent `Python` libraries for working with tabular time-series data\n",
    "\n",
    "For this workflow, you will need the `pandas` library, which helps us to work with &#128214; [**tabular data** such as comma-separated value or csv files](https://www.earthdatascience.org/courses/intro-to-earth-data-science/file-formats/use-text-files/). You can think of tabular data as being like a **spreadsheet or database**. \n",
    "\n",
    "> It is customary to import the `pandas` library under its **alias** `pd`, to avoid taking up too much space when you use the library.\n",
    "\n",
    "When you work with **file paths** in your code, you should also use the `os` library to generate **reproducible, cross-platform** file paths.\n",
    "\n",
    "### &#128187; YOUR TASK:\n",
    "\n",
    "Here is some code to import the os and pandas library, but **watch out! - there's a couple mistakes**:\n",
    "\n",
    "```python\n",
    "impot os\n",
    "\n",
    "import pands as pd\n",
    "```\n",
    "\n",
    "Using the code above as a starting point, complete the following **two** steps:\n",
    "  1. Paste the code from above into the **code cell** below:\n",
    "  2. **Correct the typos** to properly import the pandas library under its **alias** pd as well as the hvplot pandas extension."
   ]
  },
  {
   "cell_type": "code",
   "execution_count": null,
   "metadata": {
    "nbgrader": {
     "grade": false,
     "grade_id": "code-import",
     "locked": false,
     "schema_version": 3,
     "solution": true,
     "task": false
    }
   },
   "outputs": [],
   "source": [
    "# YOUR CODE HERE"
   ]
  },
  {
   "cell_type": "markdown",
   "metadata": {
    "nbgrader": {
     "grade": false,
     "grade_id": "test-instructions",
     "locked": true,
     "schema_version": 3,
     "solution": false,
     "task": false
    }
   },
   "source": [
    "The test cell below it will tell you if you completed the task successfully. **Do not try to modify the test cells.** If a test cell isn't working, check that you ran your code immediately before running the test."
   ]
  },
  {
   "cell_type": "code",
   "execution_count": null,
   "metadata": {
    "code_folding": [],
    "nbgrader": {
     "grade": true,
     "grade_id": "test-import",
     "locked": true,
     "points": 6,
     "schema_version": 3,
     "solution": false,
     "task": false
    }
   },
   "outputs": [],
   "source": [
    "# RUN THIS TEST CELL TO CHECK YOUR ANSWER - DO NOT MODIFY\n",
    "try:\n",
    "    pd.DataFrame()\n",
    "    print('\\u2705 Great work! '\n",
    "          'You correctly imported the pandas library.')\n",
    "except:\n",
    "    print('\\u274C Oops - pandas was not imported correctly.')\n",
    "    \n",
    "try:\n",
    "    os.path.join('data')\n",
    "    print('\\u2705 Great work! '\n",
    "          'You correctly imported the os library.')\n",
    "except:\n",
    "    print('\\u274C Oops - os was not imported correctly.')"
   ]
  },
  {
   "cell_type": "markdown",
   "metadata": {
    "nbgrader": {
     "grade": false,
     "grade_id": "step-2",
     "locked": true,
     "schema_version": 3,
     "solution": false,
     "task": false
    }
   },
   "source": [
    "## STEP 3: IMPORT DATA"
   ]
  },
  {
   "cell_type": "markdown",
   "metadata": {
    "nbgrader": {
     "grade": false,
     "grade_id": "task-data-source",
     "locked": true,
     "points": 15,
     "schema_version": 3,
     "solution": false,
     "task": true
    }
   },
   "source": [
    "### Every day, petabytes of new Earth Observation data are made available online\n",
    "\n",
    "This workflow uses **annual mean temperature data** from the U.S. National Centers for Environmental Information (NCEI). &#128214; [Check out the NCEI Climate at a Glance website where you can search for more data like this](https://www.ncei.noaa.gov/access/monitoring/climate-at-a-glance/).\n",
    "\n",
    "![National Centers for Environmental Information Logo](https://www.nesdis.noaa.gov/s3/migrated/ncei_icon_550px.jpg)\n",
    "\n",
    "#### &#9998; YOUR TASK:\n",
    "  1. In the cell below, write a 2-3 sentence description of the data source. You should describe who takes the data, where they were taken, what the maximum temperature units are, and how they are collected.\n",
    "  2. Include a citation of the data (HINT: NCEI has a section for 'Citing this page', but you will have to select a particular dataset such as City > Time Series).\n",
    "  3. Add some **context** to your data analysis - research Los Angeles, CA and write a 2-3 sentence **site description**, including a relevant **image**. Don't forget to include the source of your image!\n",
    "  \n",
    "> HINT: double-click on the Markdown cells below to modify them."
   ]
  },
  {
   "cell_type": "markdown",
   "metadata": {},
   "source": [
    "WRITE YOUR DATA DESCRIPTION HERE"
   ]
  },
  {
   "cell_type": "markdown",
   "metadata": {},
   "source": [
    "WRITE YOUR DATA CITATION HERE"
   ]
  },
  {
   "cell_type": "markdown",
   "metadata": {},
   "source": [
    "WRITE YOUR SITE DESCRIPTION HERE"
   ]
  },
  {
   "cell_type": "markdown",
   "metadata": {
    "nbgrader": {
     "grade": false,
     "grade_id": "task-download",
     "locked": true,
     "points": 10,
     "schema_version": 3,
     "solution": false,
     "task": true
    }
   },
   "source": [
    "### Use pandas to import the data\n",
    "\n",
    "The `pandas` library you imported can download data from the internet directly into a type of Python **object** called a `DataFrame`"
   ]
  },
  {
   "cell_type": "markdown",
   "metadata": {
    "nbgrader": {
     "grade": false,
     "grade_id": "instr-download",
     "locked": true,
     "schema_version": 3,
     "solution": false,
     "task": false
    }
   },
   "source": [
    "#### &#128187; Let's fix some code! YOUR TASK:\n",
    "\n",
    "     Here is some (not very clean) code to download NCEI data using `pandas`:\n",
    "\n",
    "```python\n",
    "my_path = os.path.join('data', 'filename.csv')\n",
    "dataframe = pd.read_csv(my_path, header=2, names=['col_1', 'col_2'])\n",
    "dataframe\n",
    "```\n",
    "  1. Copy the example code from above into the cell below.\n",
    "  2. Make any changes needed to get this code to run. Here's some hints:\n",
    "     * Replace `filename.csv` with the actual file name for the data.\n",
    "     * Modify the value of the `header` parameter so that **only numeric data values** are included in each column\n",
    "  3. Clean up the code by using **comments**, **expressive variable names**, **expressive column names**, and **PEP-8 compliant code**\n",
    "\n",
    "> HINT: &#128214; Check out [the pandas read_csv() documentation](https://pandas.pydata.org/docs/reference/api/pandas.read_csv.html) for more info. You can also try changing putting the code in a code cell below running it with different values. See what happens!\n",
    "\n",
    "**Make sure to call your `DataFrame` by typing it's name as the last line of your code cell** Then, you will be able to run the test cell below and find out if your answer is correct."
   ]
  },
  {
   "cell_type": "code",
   "execution_count": null,
   "metadata": {
    "nbgrader": {
     "grade": false,
     "grade_id": "ans-download",
     "locked": false,
     "schema_version": 3,
     "solution": true,
     "task": false
    }
   },
   "outputs": [],
   "source": [
    "# YOUR CODE HERE"
   ]
  },
  {
   "cell_type": "code",
   "execution_count": null,
   "metadata": {
    "code_folding": [],
    "nbgrader": {
     "grade": true,
     "grade_id": "tests-download",
     "locked": true,
     "points": 7,
     "schema_version": 3,
     "solution": false,
     "task": false
    }
   },
   "outputs": [],
   "source": [
    "# RUN THIS TEST CELL TO CHECK YOUR ANSWER - DO NOT MODIFY\n",
    "tmax_df_resp = _\n",
    "\n",
    "# Check that a DataFrame was called for testing\n",
    "if isinstance(tmax_df_resp, pd.DataFrame):\n",
    "    print('\\u2705 Great work! You called a DataFrame.')\n",
    "else:\n",
    "    print('\\u274C Oops - make sure to call your DataFrame for testing.')\n",
    "    \n",
    "# Check that the DataFrame has the correct values\n",
    "summary = [round(val, 2) for val in tmax_df_resp.mean().values]\n",
    "if summary == [198356.5, 61.88]:\n",
    "    print('\\u2705 Great work! You correctly import LA temperature data.')\n",
    "else:\n",
    "    print('\\u274C Oops - your data are not correct.')"
   ]
  },
  {
   "cell_type": "markdown",
   "metadata": {
    "nbgrader": {
     "grade": false,
     "grade_id": "step-3",
     "locked": true,
     "schema_version": 3,
     "solution": false,
     "task": false
    }
   },
   "source": [
    "## STEP 4: CLEAN UP AND WRANGLE"
   ]
  },
  {
   "attachments": {
    "image.png": {
     "image/png": "[encoded data removed]"
    }
   },
   "cell_type": "markdown",
   "metadata": {
    "nbgrader": {
     "grade": false,
     "grade_id": "instr-format",
     "locked": true,
     "schema_version": 3,
     "solution": false,
     "task": false
    }
   },
   "source": [
    "### It's very rare for downloaded data to be formatted *exactly* how we want when it is imported into `Python`\n",
    "\n",
    "First things first - Take a look at your data. Do you want to use it as is, or does it need to be modified?\n",
    "\n",
    "![image.png](attachment:image.png)"
   ]
  },
  {
   "cell_type": "markdown",
   "metadata": {
    "nbgrader": {
     "grade": false,
     "grade_id": "instr-get-year",
     "locked": true,
     "schema_version": 3,
     "solution": false,
     "task": false
    }
   },
   "source": [
    "### &#128187; YOUR TASK:\n",
    "\n",
    "Below you will find some code that will extract the year from the funky yearmonth value NCEI gives us.\n",
    "\n",
    "```python\n",
    "dataframe['date'] = pd.to_datetime(dataframe.year, format='????')\n",
    "dataframe\n",
    "```\n",
    "\n",
    "Complete the following with the code above as a starting point:\n",
    "1. Copy and paste the code above into the code cell below\n",
    "2. Replace `dataframe` with the name of **your** dataframe whenever it appears.\n",
    "3. Replace `????` with the correct **date formatting string**. \n",
    " \n",
    " > HINT: Check out [the Python strftime documentation](https://docs.python.org/3/library/datetime.html#strftime-and-strptime-behavior)."
   ]
  },
  {
   "cell_type": "code",
   "execution_count": null,
   "metadata": {
    "nbgrader": {
     "grade": false,
     "grade_id": "ans-get-year",
     "locked": false,
     "schema_version": 3,
     "solution": true,
     "task": false
    }
   },
   "outputs": [],
   "source": [
    "# YOUR CODE HERE"
   ]
  },
  {
   "cell_type": "code",
   "execution_count": null,
   "metadata": {
    "code_folding": [],
    "nbgrader": {
     "grade": true,
     "grade_id": "tests-year",
     "locked": true,
     "points": 7,
     "schema_version": 3,
     "solution": false,
     "task": false
    }
   },
   "outputs": [],
   "source": [
    "# RUN THIS TEST CELL TO CHECK YOUR ANSWER - DO NOT MODIFY\n",
    "year_df_resp = _\n",
    "\n",
    "# Check that a DataFrame was called for testing\n",
    "if isinstance(year_df_resp, pd.DataFrame):\n",
    "    print('\\u2705 Great work! You called a DataFrame.')\n",
    "else:\n",
    "    print('\\u274C Oops - make sure to call your DataFrame for testing.')\n",
    "    \n",
    "# Check that the DataFrame has the correct values\n",
    "if year_df_resp.date.dtype=='datetime64[ns]':\n",
    "    print('\\u2705 Great work! You correctly created a date column.')\n",
    "else:\n",
    "    print('\\u274C Oops - you did not create a date column.')"
   ]
  },
  {
   "cell_type": "markdown",
   "metadata": {
    "nbgrader": {
     "grade": false,
     "grade_id": "task-plot",
     "locked": true,
     "points": 15,
     "schema_version": 3,
     "solution": false,
     "task": true
    }
   },
   "source": [
    "### YOUR TASK: Resample the monthly data to annual data\n",
    "\n",
    "```python\n",
    "df = df.set_index('date').resample('PERIOD_ALIAS').mean()\n",
    "df.year = df.index.year\n",
    "df\n",
    "```\n",
    "\n",
    "1. Copy the example code into the cell below\n",
    "2. Replace 'PERIOD_ALIAS' with a period alias from [this list](https://pandas.pydata.org/docs/user_guide/timeseries.html#period-aliases) that will return annual values"
   ]
  },
  {
   "cell_type": "code",
   "execution_count": null,
   "metadata": {
    "nbgrader": {
     "grade": false,
     "grade_id": "ans-plot",
     "locked": false,
     "schema_version": 3,
     "solution": true,
     "task": false
    }
   },
   "outputs": [],
   "source": [
    "# YOUR CODE HERE"
   ]
  },
  {
   "cell_type": "markdown",
   "metadata": {},
   "source": []
  },
  {
   "cell_type": "markdown",
   "metadata": {},
   "source": [
    "## STEP 5: EXPORT THE WRANGLED DATA"
   ]
  },
  {
   "cell_type": "markdown",
   "metadata": {},
   "source": [
    "### YOUR TASK:\n",
    "\n",
    "This sample code will export your data into a `.csv` file, removing the datetime index (optional - check with your group!):\n",
    "\n",
    "```python\n",
    "la_ann_temp_df.to_csv(\n",
    "    my_annual_path, \n",
    "    index=False)\n",
    "```\n",
    "\n",
    "  1. Copy the sample code into the cell below.\n",
    "  2. Change `my_annual_path` to the path your group has agreed to use. Make sure to generate a **reproducible file path** using `os.path.join()`.\n",
    "  3. Check that your file adheres to the format your group agreed upon."
   ]
  },
  {
   "cell_type": "code",
   "execution_count": null,
   "metadata": {},
   "outputs": [],
   "source": [
    "# YOUR CODE HERE"
   ]
  }
 ],
 "metadata": {
  "celltoolbar": "Create Assignment",
  "colab": {
   "collapsed_sections": [],
   "name": "ea-bootcamp-01-get-started-reproducible-science-svetlana-kurakina.ipynb",
   "provenance": []
  },
  "kernelspec": {
   "display_name": "Python 3 (ipykernel)",
   "language": "python",
   "name": "python3"
  },
  "language_info": {
   "codemirror_mode": {
    "name": "ipython",
    "version": 3
   },
   "file_extension": ".py",
   "mimetype": "text/x-python",
   "name": "python",
   "nbconvert_exporter": "python",
   "pygments_lexer": "ipython3",
   "version": "3.10.12"
  },
  "toc": {
   "base_numbering": 1,
   "nav_menu": {},
   "number_sections": true,
   "sideBar": false,
   "skip_h1_title": true,
   "title_cell": "Table of Contents",
   "title_sidebar": "Contents",
   "toc_cell": false,
   "toc_position": {},
   "toc_section_display": true,
   "toc_window_display": false
  },
  "varInspector": {
   "cols": {
    "lenName": 16,
    "lenType": 16,
    "lenVar": 40
   },
   "kernels_config": {
    "python": {
     "delete_cmd_postfix": "",
     "delete_cmd_prefix": "del ",
     "library": "var_list.py",
     "varRefreshCmd": "print(var_dic_list())"
    },
    "r": {
     "delete_cmd_postfix": ") ",
     "delete_cmd_prefix": "rm(",
     "library": "var_list.r",
     "varRefreshCmd": "cat(var_dic_list()) "
    }
   },
   "types_to_exclude": [
    "module",
    "function",
    "builtin_function_or_method",
    "instance",
    "_Feature"
   ],
   "window_display": false
  }
 },
 "nbformat": 4,
 "nbformat_minor": 4
}
